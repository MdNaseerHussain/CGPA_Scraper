{
 "cells": [
  {
   "cell_type": "code",
   "execution_count": 23,
   "metadata": {},
   "outputs": [],
   "source": [
    "import requests\n",
    "import csv\n",
    "from bs4 import BeautifulSoup\n",
    "login_url = \"https://webapps.iitbbs.ac.in/Result/login.php\"\n",
    "redirect_url = \"https://webapps.iitbbs.ac.in/Result/Results_menu.php\"\n",
    "result_url = \"https://webapps.iitbbs.ac.in/Result/result.php\"\n",
    "with requests.session() as s:\n",
    "    # Read row by row from csv file\n",
    "    with open('ee.csv', 'r') as file:\n",
    "        reader = csv.reader(file)\n",
    "        # Start from 2nd row\n",
    "        next(reader)\n",
    "        for row in reader:\n",
    "            # Get regno and dob from csv file\n",
    "            regno = row[0]\n",
    "            dob = row[1][1:]\n",
    "            # Post the data to login_url\n",
    "            r = s.post(login_url, {\n",
    "                'regno': regno,\n",
    "                'dob': dob,\n",
    "                'submit': 'Submit'\n",
    "            })\n",
    "            r = s.get(result_url)\n",
    "            soup = BeautifulSoup(r.text, 'html.parser')\n",
    "            name = soup.find_all('h1')[1].text[6:]\n",
    "            # Add name column after regno\n",
    "            row.insert(1, name)\n",
    "            # Write row to csv file\n",
    "            with open('rough.csv', 'a', newline='') as file:\n",
    "                writer = csv.writer(file)\n",
    "                writer.writerow(row)\n",
    "    "
   ]
  }
 ],
 "metadata": {
  "kernelspec": {
   "display_name": "Python 3.9.12 ('base')",
   "language": "python",
   "name": "python3"
  },
  "language_info": {
   "codemirror_mode": {
    "name": "ipython",
    "version": 3
   },
   "file_extension": ".py",
   "mimetype": "text/x-python",
   "name": "python",
   "nbconvert_exporter": "python",
   "pygments_lexer": "ipython3",
   "version": "3.9.12"
  },
  "orig_nbformat": 4,
  "vscode": {
   "interpreter": {
    "hash": "b7c783bdd1001b55fab5c22007d050c844afa9d766f14df437f43c40fd2b4e70"
   }
  }
 },
 "nbformat": 4,
 "nbformat_minor": 2
}
